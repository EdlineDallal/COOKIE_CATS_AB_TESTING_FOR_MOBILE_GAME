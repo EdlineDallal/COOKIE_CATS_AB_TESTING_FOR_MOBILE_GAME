{
 "cells": [
  {
   "cell_type": "markdown",
   "id": "2a2df3e1-c6e2-4c00-99f6-5c480f533c9b",
   "metadata": {
    "tags": []
   },
   "source": [
    "# COOKIE CATS: A/B TESTING FOR MOBILE GAME\n",
    "<p>Cookie Cats is a hugely popular mobile puzzle game developed by <a href=\"http://tactile.dk\">Tactile Entertainment</a>. It's a classic \"connect three\"-style puzzle game where the player must connect tiles of the same color to clear the board and win the level. It also features singing cats. \n",
    "<p>As players progress through the levels of the game, they will occasionally encounter gates that force them to wait a non-trivial amount of time or make an in-app purchase to progress. In addition to driving in-app purchases, these gates serve the important purpose of giving players an enforced break from playing the game, hopefully resulting in that the player's enjoyment of the game being increased and prolonged.</p>\n",
    "<p><img src=\"https://assets.datacamp.com/production/project_184/img/cc_gates.png\" alt></p>\n",
    "<p>But where should the gates be placed? Initially the first gate was placed at level 30, but in this notebook we're going to analyze an AB-test where we moved the first gate in Cookie Cats from level 30 to level 40. In particular, we will look at the impact on player retention. But before we get to that, a key step before undertaking any analysis is understanding the data. So let's load it in and take a look!</p>"
   ]
  },
  {
   "cell_type": "markdown",
   "id": "b0682e32-d1ed-41f6-979a-d192b749ee38",
   "metadata": {},
   "source": [
    "### Content:\n",
    "1. The AB- Test data\n",
    "2. The distribution of game rounds\n",
    "3. The distribution of game rounds\n",
    "4. Overall 1-day retention\n",
    "5. 1-day retention by AB-group\n",
    "6. Should we be confident in the difference?\n",
    "7. Zooming in on the difference\n",
    "8. The probability of a difference\n",
    "9. 7-day retention by AB-group\n",
    "10. Bootstrapping the difference again\n",
    "11. The conclusion"
   ]
  },
  {
   "cell_type": "code",
   "execution_count": 1,
   "id": "97afe05d-8492-4990-a327-33d4d0c09b3b",
   "metadata": {
    "execution": {
     "iopub.execute_input": "2023-03-08T20:02:29.016600Z",
     "iopub.status.busy": "2023-03-08T20:02:29.016382Z",
     "iopub.status.idle": "2023-03-08T20:02:31.129073Z",
     "shell.execute_reply": "2023-03-08T20:02:31.128260Z",
     "shell.execute_reply.started": "2023-03-08T20:02:29.016539Z"
    },
    "tags": []
   },
   "outputs": [],
   "source": [
    "#import environments\n",
    "import pandas as pd  #pandas \n",
    "import matplotlib.pyplot as plt  #plots library\n",
    "%matplotlib inline   "
   ]
  },
  {
   "cell_type": "code",
   "execution_count": 2,
   "id": "25139ecf-7cff-4d19-9957-81cd76b6a45f",
   "metadata": {
    "dc": {
     "key": "3"
    },
    "execution": {
     "iopub.execute_input": "2023-03-08T20:02:31.130349Z",
     "iopub.status.busy": "2023-03-08T20:02:31.130028Z",
     "iopub.status.idle": "2023-03-08T20:02:31.188007Z",
     "shell.execute_reply": "2023-03-08T20:02:31.187129Z",
     "shell.execute_reply.started": "2023-03-08T20:02:31.130324Z"
    },
    "tags": [
     "sample_code"
    ]
   },
   "outputs": [
    {
     "data": {
      "text/html": [
       "<div>\n",
       "<style scoped>\n",
       "    .dataframe tbody tr th:only-of-type {\n",
       "        vertical-align: middle;\n",
       "    }\n",
       "\n",
       "    .dataframe tbody tr th {\n",
       "        vertical-align: top;\n",
       "    }\n",
       "\n",
       "    .dataframe thead th {\n",
       "        text-align: right;\n",
       "    }\n",
       "</style>\n",
       "<table border=\"1\" class=\"dataframe\">\n",
       "  <thead>\n",
       "    <tr style=\"text-align: right;\">\n",
       "      <th></th>\n",
       "      <th>userid</th>\n",
       "      <th>version</th>\n",
       "      <th>sum_gamerounds</th>\n",
       "      <th>retention_1</th>\n",
       "      <th>retention_7</th>\n",
       "    </tr>\n",
       "  </thead>\n",
       "  <tbody>\n",
       "    <tr>\n",
       "      <th>0</th>\n",
       "      <td>116</td>\n",
       "      <td>gate_30</td>\n",
       "      <td>3</td>\n",
       "      <td>False</td>\n",
       "      <td>False</td>\n",
       "    </tr>\n",
       "    <tr>\n",
       "      <th>1</th>\n",
       "      <td>337</td>\n",
       "      <td>gate_30</td>\n",
       "      <td>38</td>\n",
       "      <td>True</td>\n",
       "      <td>False</td>\n",
       "    </tr>\n",
       "    <tr>\n",
       "      <th>2</th>\n",
       "      <td>377</td>\n",
       "      <td>gate_40</td>\n",
       "      <td>165</td>\n",
       "      <td>True</td>\n",
       "      <td>False</td>\n",
       "    </tr>\n",
       "    <tr>\n",
       "      <th>3</th>\n",
       "      <td>483</td>\n",
       "      <td>gate_40</td>\n",
       "      <td>1</td>\n",
       "      <td>False</td>\n",
       "      <td>False</td>\n",
       "    </tr>\n",
       "    <tr>\n",
       "      <th>4</th>\n",
       "      <td>488</td>\n",
       "      <td>gate_40</td>\n",
       "      <td>179</td>\n",
       "      <td>True</td>\n",
       "      <td>True</td>\n",
       "    </tr>\n",
       "  </tbody>\n",
       "</table>\n",
       "</div>"
      ],
      "text/plain": [
       "   userid  version  sum_gamerounds  retention_1  retention_7\n",
       "0     116  gate_30               3        False        False\n",
       "1     337  gate_30              38         True        False\n",
       "2     377  gate_40             165         True        False\n",
       "3     483  gate_40               1        False        False\n",
       "4     488  gate_40             179         True         True"
      ]
     },
     "execution_count": 2,
     "metadata": {},
     "output_type": "execute_result"
    }
   ],
   "source": [
    "# Reading in the data\n",
    "df = pd.read_csv('datasets/cookie_cats.csv')\n",
    "\n",
    "# Showing the first few rows\n",
    "df.head(5)"
   ]
  },
  {
   "cell_type": "markdown",
   "id": "7870f89d-87d3-4ce8-87a4-5fc0955077b4",
   "metadata": {},
   "source": [
    "## 2. The AB-test data\n",
    "<p>The data we have is from 90,189 players that installed the game while the AB-test was running. The variables are:</p>\n",
    "<ul>\n",
    "<li><code>userid</code> - a unique number that identifies each player.</li>\n",
    "<li><code>version</code> - whether the player was put in the control group (<code>gate_30</code> - a gate at level 30) or the group with the moved gate (<code>gate_40</code> - a gate at level 40).</li>\n",
    "<li><code>sum_gamerounds</code> - the number of game rounds played by the player during the first 14 days after install.</li>\n",
    "<li><code>retention_1</code> - did the player come back and play <strong>1 day</strong> after installing?</li>\n",
    "<li><code>retention_7</code> - did the player come back and play <strong>7 days</strong> after installing?</li>\n",
    "</ul>\n",
    "<p>When a player installed the game, he or she was randomly assigned to either <code>gate_30</code> or <code>gate_40</code>. As a sanity check, let's see if there are roughly the same number of players in each AB group. </p>"
   ]
  },
  {
   "cell_type": "code",
   "execution_count": 3,
   "id": "4eb63ccd-d2d0-49dc-b5cb-2764af55319b",
   "metadata": {
    "dc": {
     "key": "10"
    },
    "execution": {
     "iopub.execute_input": "2023-03-08T20:02:31.193522Z",
     "iopub.status.busy": "2023-03-08T20:02:31.193145Z",
     "iopub.status.idle": "2023-03-08T20:02:31.203145Z",
     "shell.execute_reply": "2023-03-08T20:02:31.202523Z",
     "shell.execute_reply.started": "2023-03-08T20:02:31.193485Z"
    },
    "tags": [
     "sample_code"
    ]
   },
   "outputs": [
    {
     "data": {
      "text/plain": [
       "gate_40    45489\n",
       "gate_30    44700\n",
       "Name: version, dtype: int64"
      ]
     },
     "execution_count": 3,
     "metadata": {},
     "output_type": "execute_result"
    }
   ],
   "source": [
    "# Counting the number of players in each AB group\n",
    "df['version'].value_counts()"
   ]
  },
  {
   "cell_type": "code",
   "execution_count": 4,
   "id": "68c5cbc6-d723-46ff-bd76-ed00ce9c2ff3",
   "metadata": {
    "execution": {
     "iopub.execute_input": "2023-03-08T20:02:31.204444Z",
     "iopub.status.busy": "2023-03-08T20:02:31.204184Z",
     "iopub.status.idle": "2023-03-08T20:02:31.208821Z",
     "shell.execute_reply": "2023-03-08T20:02:31.208255Z",
     "shell.execute_reply.started": "2023-03-08T20:02:31.204421Z"
    },
    "tags": []
   },
   "outputs": [
    {
     "data": {
      "text/plain": [
       "(90189, 5)"
      ]
     },
     "execution_count": 4,
     "metadata": {},
     "output_type": "execute_result"
    }
   ],
   "source": [
    "# gets the shape of the fataframe\n",
    "df.shape"
   ]
  },
  {
   "cell_type": "markdown",
   "id": "44921e31-248f-4408-9e1e-f0538530e426",
   "metadata": {},
   "source": [
    "<b> The dataframe has 90189 columns and 5 rows"
   ]
  },
  {
   "cell_type": "code",
   "execution_count": 5,
   "id": "483c3000-2a78-48e5-b648-9259c4eb3e27",
   "metadata": {
    "execution": {
     "iopub.execute_input": "2023-03-08T20:02:31.210105Z",
     "iopub.status.busy": "2023-03-08T20:02:31.209745Z",
     "iopub.status.idle": "2023-03-08T20:02:31.235845Z",
     "shell.execute_reply": "2023-03-08T20:02:31.235211Z",
     "shell.execute_reply.started": "2023-03-08T20:02:31.210004Z"
    },
    "tags": []
   },
   "outputs": [
    {
     "name": "stdout",
     "output_type": "stream",
     "text": [
      "<class 'pandas.core.frame.DataFrame'>\n",
      "RangeIndex: 90189 entries, 0 to 90188\n",
      "Data columns (total 5 columns):\n",
      " #   Column          Non-Null Count  Dtype \n",
      "---  ------          --------------  ----- \n",
      " 0   userid          90189 non-null  int64 \n",
      " 1   version         90189 non-null  object\n",
      " 2   sum_gamerounds  90189 non-null  int64 \n",
      " 3   retention_1     90189 non-null  bool  \n",
      " 4   retention_7     90189 non-null  bool  \n",
      "dtypes: bool(2), int64(2), object(1)\n",
      "memory usage: 2.2+ MB\n"
     ]
    }
   ],
   "source": [
    "# check the dtype of the columns and the nulls in the dataframe\n",
    "df.info()"
   ]
  },
  {
   "cell_type": "markdown",
   "id": "8ab06db4-93fd-4982-8bc6-553c606d16d2",
   "metadata": {},
   "source": [
    "<b> The dataframe has no null values, we check the df shape is 90189 rows, and in every  the non null values are the same number. "
   ]
  },
  {
   "cell_type": "markdown",
   "id": "ad82c240-e74b-42a9-9824-ecd315e086e6",
   "metadata": {},
   "source": [
    "## 3. The distribution of game rounds\n",
    "<p>The focus of this analysis will be on how the gate placement affects player retention, plot the distribution of the number of game rounds players played during their first week playing the game.</p>"
   ]
  },
  {
   "cell_type": "code",
   "execution_count": 6,
   "id": "6990342f-fdd3-4f70-965e-c6ce82b11263",
   "metadata": {
    "dc": {
     "key": "17"
    },
    "execution": {
     "iopub.execute_input": "2023-03-08T20:02:31.236879Z",
     "iopub.status.busy": "2023-03-08T20:02:31.236678Z",
     "iopub.status.idle": "2023-03-08T20:02:31.406474Z",
     "shell.execute_reply": "2023-03-08T20:02:31.405781Z",
     "shell.execute_reply.started": "2023-03-08T20:02:31.236845Z"
    },
    "tags": [
     "sample_code"
    ]
   },
   "outputs": [
    {
     "data": {
      "image/png": "[encoded data removed]",
      "text/plain": [
       "<Figure size 432x288 with 1 Axes>"
      ]
     },
     "metadata": {
      "needs_background": "light"
     },
     "output_type": "display_data"
    }
   ],
   "source": [
    "# Counting the number of players for each number of game rounds \n",
    "plot_df = df.groupby('sum_gamerounds')['userid'].count()\n",
    "plot_df\n",
    "# Plotting the distribution of players that played 0 to 100 game rounds\n",
    "ax = plot_df.head(n=100).plot(x=\"sum_gamerounds\", y=\"userid\", kind=\"hist\")\n",
    "ax.set_xlabel(\"Game Rounds\")\n",
    "ax.set_ylabel(\"User Count\")\n",
    "plt.title('Distribution of Game Rounds')\n",
    "plt.show()"
   ]
  },
  {
   "cell_type": "markdown",
   "id": "4238205e-3322-486b-922d-5db31af61a29",
   "metadata": {
    "tags": []
   },
   "source": [
    "## 4. Overall 1-day retention\n",
    "<p>In the plot above we can see that some players install the game but then never play it (0 game rounds), some players just play a couple of game rounds in their first week, and some get really hooked!</p>\n",
    "<p>What we want is for players to like the game and to get hooked. A common metric in the video gaming industry for how fun and engaging a game is <em>1-day retention</em>: The percentage of players that comes back and plays the game <em>one day</em> after they have installed it.  The higher 1-day retention is, the easier it is to retain players and build a large player base. </p>\n",
    "<p>As a first step, let's look at what 1-day retention is overall.</p>"
   ]
  },
  {
   "cell_type": "code",
   "execution_count": 15,
   "id": "669c3645-899b-42ed-be42-50e0e694bf76",
   "metadata": {
    "execution": {
     "iopub.execute_input": "2023-03-08T20:04:14.361382Z",
     "iopub.status.busy": "2023-03-08T20:04:14.361106Z",
     "iopub.status.idle": "2023-03-08T20:04:14.367219Z",
     "shell.execute_reply": "2023-03-08T20:04:14.366401Z",
     "shell.execute_reply.started": "2023-03-08T20:04:14.361358Z"
    }
   },
   "outputs": [
    {
     "data": {
      "text/plain": [
       "0.4452095044850259"
      ]
     },
     "execution_count": 15,
     "metadata": {},
     "output_type": "execute_result"
    }
   ],
   "source": [
    "df['retention_1'].mean()"
   ]
  },
  {
   "cell_type": "markdown",
   "id": "f2c9e3c8-5b4b-4cef-8b2f-e86f5ea91c06",
   "metadata": {
    "tags": []
   },
   "source": [
    "## 5. 1-day retention by AB-group\n",
    "\n",
    "<p>So, a little less than half of the players come back one day after installing the game. Now that we have a benchmark, let's look at how 1-day retention differs between the two AB-groups.</p>"
   ]
  },
  {
   "cell_type": "code",
   "execution_count": 16,
   "id": "21f758e7-ea89-40af-8789-bed90b7f04e9",
   "metadata": {
    "execution": {
     "iopub.execute_input": "2023-03-08T20:04:48.634656Z",
     "iopub.status.busy": "2023-03-08T20:04:48.634376Z",
     "iopub.status.idle": "2023-03-08T20:04:48.655565Z",
     "shell.execute_reply": "2023-03-08T20:04:48.654843Z",
     "shell.execute_reply.started": "2023-03-08T20:04:48.634633Z"
    }
   },
   "outputs": [
    {
     "data": {
      "text/plain": [
       "userid            90189\n",
       "version           90189\n",
       "sum_gamerounds    90189\n",
       "retention_1       90189\n",
       "retention_7       90189\n",
       "dtype: int64"
      ]
     },
     "execution_count": 16,
     "metadata": {},
     "output_type": "execute_result"
    }
   ],
   "source": [
    "df.count()"
   ]
  },
  {
   "cell_type": "code",
   "execution_count": 7,
   "id": "1c53b15a-5774-4da1-8e16-cfaf42836db8",
   "metadata": {
    "dc": {
     "key": "24"
    },
    "execution": {
     "iopub.execute_input": "2023-03-08T20:02:31.408034Z",
     "iopub.status.busy": "2023-03-08T20:02:31.407615Z",
     "iopub.status.idle": "2023-03-08T20:02:31.412596Z",
     "shell.execute_reply": "2023-03-08T20:02:31.411671Z",
     "shell.execute_reply.started": "2023-03-08T20:02:31.407992Z"
    },
    "tags": [
     "sample_code"
    ]
   },
   "outputs": [],
   "source": [
    "# The % of users that came back the day after they installed\n",
    "retention_1_mean= round(df['retention_1'].mean(),2)"
   ]
  },
  {
   "cell_type": "code",
   "execution_count": 18,
   "id": "600bfe4c-614c-49b2-9d35-803233f197fa",
   "metadata": {
    "dc": {
     "key": "31"
    },
    "execution": {
     "iopub.execute_input": "2023-03-08T20:06:24.198929Z",
     "iopub.status.busy": "2023-03-08T20:06:24.198461Z",
     "iopub.status.idle": "2023-03-08T20:06:24.274793Z",
     "shell.execute_reply": "2023-03-08T20:06:24.273934Z",
     "shell.execute_reply.started": "2023-03-08T20:06:24.198906Z"
    },
    "tags": [
     "sample_code"
    ]
   },
   "outputs": [
    {
     "name": "stderr",
     "output_type": "stream",
     "text": [
      "/var/folders/qb/_hgdk33x1lj4ngb0zj7mly600000gn/T/ipykernel_8047/4225488420.py:2: UserWarning: Boolean Series key will be reindexed to match DataFrame index.\n",
      "  gate30_cnt= df.query('retention_1')[df.version=='gate_30'].retention_1.count()\n",
      "/var/folders/qb/_hgdk33x1lj4ngb0zj7mly600000gn/T/ipykernel_8047/4225488420.py:3: UserWarning: Boolean Series key will be reindexed to match DataFrame index.\n",
      "  gate40_cnt= df.query('retention_1')[df.version=='gate_40'].retention_1.count()\n"
     ]
    }
   ],
   "source": [
    "# Calculating 1-day retention for each AB-group\n",
    "gate30_cnt= df.query('retention_1')[df.version=='gate_30'].retention_1.count()\n",
    "gate40_cnt= df.query('retention_1')[df.version=='gate_40'].retention_1.count()"
   ]
  },
  {
   "cell_type": "code",
   "execution_count": 19,
   "id": "7f5a080e-40d2-4894-8329-42887cfc49ce",
   "metadata": {
    "dc": {
     "key": "31"
    },
    "execution": {
     "iopub.execute_input": "2023-03-08T20:06:26.860989Z",
     "iopub.status.busy": "2023-03-08T20:06:26.860474Z",
     "iopub.status.idle": "2023-03-08T20:06:26.874930Z",
     "shell.execute_reply": "2023-03-08T20:06:26.874270Z",
     "shell.execute_reply.started": "2023-03-08T20:06:26.860966Z"
    },
    "tags": []
   },
   "outputs": [
    {
     "data": {
      "text/plain": [
       "0.4481879194630872"
      ]
     },
     "execution_count": 19,
     "metadata": {},
     "output_type": "execute_result"
    }
   ],
   "source": [
    "df[df.version=='gate_30'].retention_1.mean()"
   ]
  },
  {
   "cell_type": "code",
   "execution_count": 20,
   "id": "8f105ea5-f8ec-4867-9d91-212aa9cc4c47",
   "metadata": {
    "dc": {
     "key": "31"
    },
    "execution": {
     "iopub.execute_input": "2023-03-08T20:06:27.163646Z",
     "iopub.status.busy": "2023-03-08T20:06:27.163321Z",
     "iopub.status.idle": "2023-03-08T20:06:27.178754Z",
     "shell.execute_reply": "2023-03-08T20:06:27.178121Z",
     "shell.execute_reply.started": "2023-03-08T20:06:27.163617Z"
    },
    "tags": []
   },
   "outputs": [
    {
     "data": {
      "text/plain": [
       "0.44228274967574577"
      ]
     },
     "execution_count": 20,
     "metadata": {},
     "output_type": "execute_result"
    }
   ],
   "source": [
    "df[df.version=='gate_40'].retention_1.mean()"
   ]
  },
  {
   "cell_type": "markdown",
   "id": "53ece950-2fce-4ea9-9582-866cd1a0a1f3",
   "metadata": {},
   "source": [
    "## 6. Should we be confident in the difference?\n",
    "<p>It appears that there was a slight decrease in 1-day retention when the gate was moved to level 40 (44.2%) compared to the control when it was at level 30 (44.8%). It's a small change, but even small changes in retention can have a large impact. But while we are certain of the difference in the data, how certain should we be that a gate at level 40 will be worse in the future?</p>\n",
    "<p>There are a couple of ways we can get at the certainty of these retention numbers. Here we will use bootstrapping: We will repeatedly re-sample our dataset (with replacement) and calculate 1-day retention for those samples. The variation in 1-day retention will give us an indication of how uncertain the retention numbers are.</p>"
   ]
  },
  {
   "cell_type": "code",
   "execution_count": 11,
   "id": "f9b100c9-36b5-4a5d-807e-2ea7512c0057",
   "metadata": {
    "dc": {
     "key": "38"
    },
    "execution": {
     "iopub.execute_input": "2023-03-08T20:02:31.634410Z",
     "iopub.status.busy": "2023-03-08T20:02:31.634203Z",
     "iopub.status.idle": "2023-03-08T20:02:41.979492Z",
     "shell.execute_reply": "2023-03-08T20:02:41.978745Z",
     "shell.execute_reply.started": "2023-03-08T20:02:31.634384Z"
    },
    "tags": [
     "sample_code"
    ]
   },
   "outputs": [
    {
     "data": {
      "image/png": "[encoded data removed]",
      "text/plain": [
       "<Figure size 432x288 with 1 Axes>"
      ]
     },
     "metadata": {
      "needs_background": "light"
     },
     "output_type": "display_data"
    }
   ],
   "source": [
    "# Creating an list with bootstrapped means for each AB-group\n",
    "boot_1d = []\n",
    "for i in range(1000):\n",
    "    boot_mean = df.sample(frac=1, replace=True).groupby('version')['retention_1'].mean()\n",
    "    boot_1d.append(boot_mean)\n",
    "    \n",
    "# Transforming the list to a DataFrame\n",
    "boot_1d = pd.DataFrame(boot_1d)\n",
    "    \n",
    "# A Kernel Density Estimate plot of the bootstrap distributions\n",
    "boot_1d.plot(kind='kde')\n",
    "plt.show()"
   ]
  },
  {
   "cell_type": "markdown",
   "id": "0e2d239d-4ddd-462f-97a2-14615326e358",
   "metadata": {
    "tags": []
   },
   "source": [
    "## 7. Zooming in on the difference\n",
    "<p>These two distributions above represent the bootstrap uncertainty over what the underlying 1-day retention could be for the two AB-groups. Just eyeballing this plot, we can see that there seems to be some evidence of a difference, albeit small. Let's zoom in on the difference in 1-day retention</p>"
   ]
  },
  {
   "cell_type": "code",
   "execution_count": 21,
   "id": "93294136-ae08-407d-98f9-207a2f3fa2f2",
   "metadata": {
    "execution": {
     "iopub.execute_input": "2023-03-08T20:07:19.684263Z",
     "iopub.status.busy": "2023-03-08T20:07:19.683751Z",
     "iopub.status.idle": "2023-03-08T20:07:19.837512Z",
     "shell.execute_reply": "2023-03-08T20:07:19.836760Z",
     "shell.execute_reply.started": "2023-03-08T20:07:19.684240Z"
    },
    "tags": []
   },
   "outputs": [
    {
     "data": {
      "image/png": "[encoded data removed]",
      "text/plain": [
       "<Figure size 432x288 with 1 Axes>"
      ]
     },
     "metadata": {
      "needs_background": "light"
     },
     "output_type": "display_data"
    }
   ],
   "source": [
    "# Adding a column with the % difference between the two AB-groups\n",
    "boot_1d['diff'] = (boot_1d['gate_30'] - boot_1d['gate_40']) /  boot_1d['gate_40'] * 100\n",
    "\n",
    "# Ploting the bootstrap % difference\n",
    "ax = boot_1d['diff'].plot(kind = 'kde')\n",
    "\n",
    "ax.set_xlabel(\"% difference in means\")\n",
    "plt.title('Difference in Means')\n",
    "plt.show()"
   ]
  },
  {
   "cell_type": "markdown",
   "id": "598273e7-4a9b-4f24-9ca6-83f60e5e9484",
   "metadata": {},
   "source": [
    "## 8. The probability of a difference\n",
    "<p>From this chart, we can see that the most likely % difference is around 1% - 2%, and that most of the distribution is above 0%, in favor of a gate at level 30. But what is the <em>probability</em> that the difference is above 0%? Let's calculate that as well.</p>"
   ]
  },
  {
   "cell_type": "code",
   "execution_count": 17,
   "id": "c102c57b-a477-429a-b65f-78abc112bf7a",
   "metadata": {
    "dc": {
     "key": "53"
    },
    "execution": {
     "iopub.execute_input": "2023-03-08T20:06:04.015258Z",
     "iopub.status.busy": "2023-03-08T20:06:04.014973Z",
     "iopub.status.idle": "2023-03-08T20:06:04.021195Z",
     "shell.execute_reply": "2023-03-08T20:06:04.020491Z",
     "shell.execute_reply.started": "2023-03-08T20:06:04.015235Z"
    },
    "tags": [
     "sample_code"
    ]
   },
   "outputs": [
    {
     "data": {
      "text/plain": [
       "'96.2%'"
      ]
     },
     "execution_count": 17,
     "metadata": {},
     "output_type": "execute_result"
    }
   ],
   "source": [
    "# Calculating the probability that 1-day retention is greater when the gate is at level 30.\n",
    "prob = (boot_1d['diff'] > 0).sum() / len(boot_1d)\n",
    "\n",
    "# Pretty printing the probability\n",
    "'{:.1%}'.format(prob)"
   ]
  },
  {
   "cell_type": "markdown",
   "id": "87eb6b29-b068-461f-9801-6d943de3feac",
   "metadata": {},
   "source": [
    "## 9. 7-day retention by AB-group\n",
    "<p>The bootstrap analysis tells us that there is a high probability that 1-day retention is better when the gate is at level 30. However, since players have only been playing the game for one day, it is likely that most players haven't reached level 30 yet. That is, many players won't have been affected by the gate, even if it's as early as level 30. </p>\n",
    "<p>But after having played for a week, more players should have reached level 40, and therefore it makes sense to also look at 7-day retention. That is: What percentage of the people that installed the game also showed up a week later to play the game again.</p>\n",
    "<p>Let's start by calculating 7-day retention for the two AB-groups.</p>"
   ]
  },
  {
   "cell_type": "code",
   "execution_count": null,
   "id": "d573693b-5e76-4979-b39f-97517c28ffdb",
   "metadata": {
    "dc": {
     "key": "60"
    },
    "execution": {
     "iopub.status.busy": "2023-03-08T20:02:44.530308Z",
     "iopub.status.idle": "2023-03-08T20:02:44.530614Z",
     "shell.execute_reply": "2023-03-08T20:02:44.530459Z",
     "shell.execute_reply.started": "2023-03-08T20:02:44.530436Z"
    },
    "tags": [
     "sample_code"
    ]
   },
   "outputs": [],
   "source": [
    "# Calculating 7-day retention for both AB-groups\n",
    "df[df.version=='gate_30'].retention_7.mean(), df[df.version=='gate_40'].retention_7.mean()"
   ]
  },
  {
   "cell_type": "markdown",
   "id": "a8288c0e-1fb0-46eb-8e2c-e67ca7685e25",
   "metadata": {},
   "source": [
    "## 10. Bootstrapping the difference again\n",
    "<p>Like with 1-day retention, we see that 7-day retention is slightly lower (18.2%) when the gate is at level 40 than when the gate is at level 30 (19.0%). This difference is also larger than for 1-day retention, presumably because more players have had time to hit the first gate. We also see that the <em>overall</em> 7-day retention is lower than the <em>overall</em> 1-day retention; fewer people play a game a week after installing than a day after installing.</p>\n",
    "<p>But as before, let's use bootstrap analysis to figure out how certain we should be of the difference between the AB-groups.</p>"
   ]
  },
  {
   "cell_type": "code",
   "execution_count": null,
   "id": "cc9d7868-10e3-44fc-b915-547efc67e472",
   "metadata": {
    "dc": {
     "key": "67"
    },
    "execution": {
     "iopub.status.busy": "2023-03-08T20:02:44.531733Z",
     "iopub.status.idle": "2023-03-08T20:02:44.532215Z",
     "shell.execute_reply": "2023-03-08T20:02:44.532005Z",
     "shell.execute_reply.started": "2023-03-08T20:02:44.531983Z"
    },
    "tags": [
     "sample_code"
    ]
   },
   "outputs": [],
   "source": [
    "# Creating a list with bootstrapped means for each AB-group\n",
    "boot_7d = []\n",
    "for i in range(10000):\n",
    "    boot_mean = df.sample(frac=1, replace=True).groupby('version')['retention_7'].mean()\n",
    "    boot_7d.append(boot_mean)\n",
    "    \n",
    "# Transforming the list to a DataFrame\n",
    "boot_7d = pd.DataFrame(boot_7d)\n",
    "\n",
    "# Adding a column with the % difference between the two AB-groups\n",
    "boot_7d['diff'] = (boot_7d['gate_30'] - boot_7d['gate_40']) /  boot_7d['gate_30'] * 100\n",
    "\n",
    "# Ploting the bootstrap % difference\n",
    "ax = boot_7d['diff'].plot(kind = 'kde')\n",
    "ax.set_xlabel(\"% difference in means\")\n",
    "plt.show()"
   ]
  },
  {
   "cell_type": "code",
   "execution_count": null,
   "id": "ff7b46db-a8e7-491d-adb4-2215a5f8843e",
   "metadata": {
    "execution": {
     "iopub.status.busy": "2023-03-08T20:02:44.533646Z",
     "iopub.status.idle": "2023-03-08T20:02:44.534204Z",
     "shell.execute_reply": "2023-03-08T20:02:44.533958Z",
     "shell.execute_reply.started": "2023-03-08T20:02:44.533932Z"
    },
    "tags": []
   },
   "outputs": [],
   "source": [
    "# Calculating the probability that 7-day retention is greater when the gate is at level 30\n",
    "prob = (boot_7d['diff'] > 0).sum() / len(boot_7d)\n",
    "\n",
    "# printing the probability\n",
    "'{:.1%}'.format(prob)"
   ]
  },
  {
   "cell_type": "markdown",
   "id": "ac1a7ad7-ed17-47e5-bb89-d353032e4580",
   "metadata": {},
   "source": [
    "## 11.  The conclusion\n",
    "- The bootstrap result shows strong evidence that 7-day retention is higher when the gate is at level 30 compared to level 40.\n",
    "- Conclusion: To maintain high retention rates for both 1-day and 7-day retention, it's best not to move the gate from level 30 to level 40.\n",
    "- While there are other metrics to consider, retention is one of the most critical factors. Without retaining the player base, in-game purchases or game rounds played do not matter.\n",
    "- The theory of hedonic adaptation provides one explanation for the higher retention rate at an earlier gate level. Hedonic adaptation is the tendency for people to enjoy a fun activity less over time if they continuously undertake it.\n",
    "- By forcing players to take a break when they reach a gate, their enjoyment of the game is prolonged.\n",
    "- However, if the gate is moved to level 40, fewer players may make it far enough, and they are more likely to quit the game because they get bored."
   ]
  }
 ],
 "metadata": {
  "kernelspec": {
   "display_name": "Python 3 (ipykernel)",
   "language": "python",
   "name": "python3"
  },
  "language_info": {
   "codemirror_mode": {
    "name": "ipython",
    "version": 3
   },
   "file_extension": ".py",
   "mimetype": "text/x-python",
   "name": "python",
   "nbconvert_exporter": "python",
   "pygments_lexer": "ipython3",
   "version": "3.9.12"
  }
 },
 "nbformat": 4,
 "nbformat_minor": 5
}
